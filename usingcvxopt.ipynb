{
 "cells": [
  {
   "cell_type": "markdown",
   "metadata": {},
   "source": [
    "# Mean variance optimization with constraints\n",
    "\n",
    "* here, long only constraints\n",
    "\n",
    "* Using cvxopt \n"
   ]
  },
  {
   "cell_type": "code",
   "execution_count": 76,
   "metadata": {
    "collapsed": false
   },
   "outputs": [],
   "source": [
    "from math import sqrt\n",
    "from cvxopt import matrix\n",
    "from cvxopt.blas import dot \n",
    "from cvxopt.solvers import qp, options\n",
    "import pylab\n",
    "from pandas import DataFrame\n",
    "\n",
    "%matplotlib inline"
   ]
  },
  {
   "cell_type": "markdown",
   "metadata": {},
   "source": [
    "# Data of the problem (same as efffront_exercise.ipynb)"
   ]
  },
  {
   "cell_type": "code",
   "execution_count": 67,
   "metadata": {
    "collapsed": false
   },
   "outputs": [
    {
     "name": "stdout",
     "output_type": "stream",
     "text": [
      "[ 4.90e-03 -2.24e-03]\n",
      "[-2.24e-03  2.56e-02]\n",
      "\n",
      "[ 3.50e-03]\n",
      "[ 4.00e-02]\n",
      "\n"
     ]
    }
   ],
   "source": [
    "r=0.02 # Cash rate\n",
    "\n",
    "s1=0.07 # Vol\n",
    "sr1=0.05 # Sharpe\n",
    "s2=0.16 # Vol\n",
    "sr2=0.25 # Sharpe\n",
    "rho=-0.2 # Correlation\n",
    "sigma=matrix([[s1**2,rho*s1*s2],[rho*s1*s2,s2**2]]) # Covariance matrix\n",
    "#sigma=np.array([[s1**2,rho*s1*s2],[rho*s1*s2,s2**2]]) # Covariance matrix\n",
    "\n",
    "\n",
    "mu1=sr1*s1 # Expected excess return\n",
    "mu2=sr2*s2 # Expected excess return\n",
    "mu=matrix([mu1,mu2]) # Vector of expected returns\n",
    "\n",
    "lbd=5 # Risk aversion\n",
    "\n",
    "print sigma\n",
    "print mu"
   ]
  },
  {
   "cell_type": "markdown",
   "metadata": {},
   "source": [
    "# Define the constraints of the problem\n",
    "\n",
    "* All asset weights should be positive \n",
    "\n",
    "* The control variable only pertains of risky asset weights $(\\pi_{1},\\pi_{2})$\n",
    "\n",
    "* Cash is positive if $\\pi_{1}+\\pi_{2} \\leq 1$\n",
    "\n",
    "* Check [this reference](http://cvxopt.org/userguide/coneprog.html#quadratic-programming) for the conventions of cvxopt"
   ]
  },
  {
   "cell_type": "code",
   "execution_count": 68,
   "metadata": {
    "collapsed": false
   },
   "outputs": [
    {
     "name": "stdout",
     "output_type": "stream",
     "text": [
      "[-1.00e+00  0.00e+00]\n",
      "[ 0.00e+00 -1.00e+00]\n",
      "[ 1.00e+00  1.00e+00]\n",
      "\n",
      "[ 0.00e+00]\n",
      "[ 0.00e+00]\n",
      "[ 1.00e+00]\n",
      "\n"
     ]
    }
   ],
   "source": [
    "G = matrix(0.0, (3,2))\n",
    "G[0,0] = -1.0\n",
    "G[1,1] = -1.0\n",
    "G[2,:]=[1.0,1.0]\n",
    "h = matrix(0.0, (3,1))\n",
    "h[2]=1\n",
    "\n",
    "print G\n",
    "print h"
   ]
  },
  {
   "cell_type": "code",
   "execution_count": 79,
   "metadata": {
    "collapsed": false
   },
   "outputs": [
    {
     "data": {
      "text/html": [
       "<div>\n",
       "<table border=\"1\" class=\"dataframe\">\n",
       "  <thead>\n",
       "    <tr style=\"text-align: right;\">\n",
       "      <th></th>\n",
       "      <th>Opt. weights</th>\n",
       "    </tr>\n",
       "  </thead>\n",
       "  <tbody>\n",
       "    <tr>\n",
       "      <th>Cash</th>\n",
       "      <td>0.363836</td>\n",
       "    </tr>\n",
       "    <tr>\n",
       "      <th>Bonds</th>\n",
       "      <td>0.297622</td>\n",
       "    </tr>\n",
       "    <tr>\n",
       "      <th>Equities</th>\n",
       "      <td>0.338542</td>\n",
       "    </tr>\n",
       "  </tbody>\n",
       "</table>\n",
       "</div>"
      ],
      "text/plain": [
       "          Opt. weights\n",
       "Cash          0.363836\n",
       "Bonds         0.297622\n",
       "Equities      0.338542"
      ]
     },
     "execution_count": 79,
     "metadata": {},
     "output_type": "execute_result"
    }
   ],
   "source": [
    "options['show_progress'] = False\n",
    "sol = qp(lbd*sigma, -mu, G, h)\n",
    "\n",
    "pistar= [1-sum(sol['x']), sol['x'][0],sol['x'][1]]\n",
    "\n",
    "df = DataFrame(pistar, index=['Cash','Bonds','Equities'],columns=['Opt. weights'])\n",
    "df"
   ]
  },
  {
   "cell_type": "code",
   "execution_count": null,
   "metadata": {
    "collapsed": true
   },
   "outputs": [],
   "source": []
  }
 ],
 "metadata": {
  "kernelspec": {
   "display_name": "Python 2",
   "language": "python",
   "name": "python2"
  },
  "language_info": {
   "codemirror_mode": {
    "name": "ipython",
    "version": 2
   },
   "file_extension": ".py",
   "mimetype": "text/x-python",
   "name": "python",
   "nbconvert_exporter": "python",
   "pygments_lexer": "ipython2",
   "version": "2.7.9"
  },
  "name": "usingcvxopt.ipynb"
 },
 "nbformat": 4,
 "nbformat_minor": 0
}
