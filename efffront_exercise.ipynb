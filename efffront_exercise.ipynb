{
 "metadata": {
  "name": "",
  "signature": "sha256:91f74416429daead11b437f3ed834512a8fc85fd45f99cca02eea8933053344f"
 },
 "nbformat": 3,
 "nbformat_minor": 0,
 "worksheets": [
  {
   "cells": [
    {
     "cell_type": "code",
     "collapsed": false,
     "input": [
      "from sympy import symbols\n",
      "from sympy.plotting import plot,plot_parametric\n",
      "import numpy as np\n",
      "from IPython.core.display import HTML\n",
      "%matplotlib inline"
     ],
     "language": "python",
     "metadata": {},
     "outputs": [],
     "prompt_number": 52
    },
    {
     "cell_type": "markdown",
     "metadata": {},
     "source": [
      "# Parameters\n",
      "\n",
      "* Asset 1 is a bond (low Sharpe)\n",
      "* Asset 2 is equities (high Sharpe)\n",
      "* Bonds and equities are negatively correlated"
     ]
    },
    {
     "cell_type": "code",
     "collapsed": false,
     "input": [
      "# Cash rate\n",
      "r=0.02\n",
      "\n",
      "s1=0.08\n",
      "sr1=0.05\n",
      "s2=0.16\n",
      "sr2=0.25\n",
      "rho=-0.2\n",
      "sigma=np.array([[s1**2,rho*s1*s2],[rho*s1*s2,s2**2]])\n",
      "e=np.ones(2)\n",
      "\n",
      "mu1=r+sr1*s1\n",
      "mu2=r+sr2*s2\n",
      "mu=np.array([mu1,mu2])"
     ],
     "language": "python",
     "metadata": {},
     "outputs": [],
     "prompt_number": 44
    },
    {
     "cell_type": "markdown",
     "metadata": {},
     "source": [
      "# Solving the constrained optimization program "
     ]
    },
    {
     "cell_type": "code",
     "collapsed": false,
     "input": [
      "A=(np.transpose(mu)).dot(np.linalg.solve(sigma,mu))\n",
      "\n",
      "B=(np.transpose(mu)).dot(np.linalg.solve(sigma,e))\n",
      "\n",
      "C=(np.transpose(e)).dot(np.linalg.solve(sigma,e))\n",
      "\n",
      "D=(np.transpose(mu-r*e)).dot(np.linalg.solve(sigma,(mu-r*e)))**0.5\n",
      "\n",
      "E=(np.transpose(e)).dot(np.linalg.solve(sigma,(mu-r*e)))\n",
      "\n",
      "\n"
     ],
     "language": "python",
     "metadata": {},
     "outputs": [],
     "prompt_number": 45
    },
    {
     "cell_type": "markdown",
     "metadata": {},
     "source": [
      "* Minimum variance portfolio\n",
      "* Tangent portfolio"
     ]
    },
    {
     "cell_type": "code",
     "collapsed": false,
     "input": [
      "pi1=(1/C)*np.linalg.solve(sigma,e)\n",
      "volpi1=((np.transpose(pi1)).dot(sigma.dot(pi1)))**0.5\n",
      "\n",
      "pistar=(1/E)*np.linalg.solve(sigma,mu-r*e)\n",
      "volpistar=((np.transpose(pistar)).dot(sigma.dot(pistar)))**0.5\n",
      "\n",
      "shpistar=D\n",
      "\n",
      "print \"pi1\",pi1\n",
      "print \"volpi1\",volpi1\n",
      "\n",
      "print \"pistar\",pistar\n",
      "print \"volpistar\",volpistar\n",
      "\n",
      "print \"shpistar\",shpistar\n"
     ],
     "language": "python",
     "metadata": {},
     "outputs": [
      {
       "output_type": "stream",
       "stream": "stdout",
       "text": [
        "pi1 [ 0.75862069  0.24137931]\n",
        "volpi1 0.0650940963476\n",
        "pistar [ 0.43478261  0.56521739]\n",
        "volpistar 0.0901668271083\n",
        "shpistar 0.270030862434\n"
       ]
      }
     ],
     "prompt_number": 46
    },
    {
     "cell_type": "markdown",
     "metadata": {},
     "source": [
      "# Efficient frontier with no riskless asset"
     ]
    },
    {
     "cell_type": "code",
     "collapsed": false,
     "input": [
      "x=symbols('x')\n",
      "expr=((A-2*B*x+C*x**2)/(A*C-B**2))**0.5\n",
      "\n",
      "pl=plot_parametric(expr,x,(x,0.00,0.10),axis_center=(0.05,0.0),show=False)\n",
      "\n",
      "pl.xlabel='Std. Dev.'\n",
      "pl.ylabel='Exp. Ret.'\n",
      "pl.title='Efficient Frontier (no risk-free asset)'\n",
      "pl.show()\n",
      "#pl.save('pl.png')\n"
     ],
     "language": "python",
     "metadata": {},
     "outputs": [
      {
       "metadata": {},
       "output_type": "display_data",
       "png": "[encoded data removed]",
       "text": [
        "<matplotlib.figure.Figure at 0x10e406050>"
       ]
      }
     ],
     "prompt_number": 47
    },
    {
     "cell_type": "markdown",
     "metadata": {},
     "source": [
      "# Efficient frontier with a riskless asset"
     ]
    },
    {
     "cell_type": "code",
     "collapsed": false,
     "input": [
      "pl1=plot_parametric(expr,x,(x,0.00,0.10),axis_center=(0.0,0.0),show=False)\n",
      "pl1.xlabel='Std. Dev.'\n",
      "pl1.ylabel='Exp. Ret.'\n",
      "pl1.title='Efficient Frontier (with risk-free asset)'\n",
      "pl1[0].line_color='red'\n",
      "pl2=plot_parametric((x-r)/D,x,(x,r,0.10),show=False)\n",
      "pl1.append(pl2[0])        \n",
      "pl1.show()\n",
      "#pl1.save('pl1.png')"
     ],
     "language": "python",
     "metadata": {},
     "outputs": [
      {
       "metadata": {},
       "output_type": "display_data",
       "png": "[encoded data removed]",
       "text": [
        "<matplotlib.figure.Figure at 0x10e4a2350>"
       ]
      }
     ],
     "prompt_number": 48
    },
    {
     "cell_type": "code",
     "collapsed": false,
     "input": [
      "\n",
      "\n",
      "lbd=3.0\n",
      "cst1=0.027\n",
      "cst2=0.070\n",
      "\n",
      "pref1=(2/lbd)*((x-cst1)**0.5)\n",
      "pref2=(2/lbd)*((x-cst2)**0.5)\n",
      "\n",
      "pl1=plot_parametric(expr,x,(x,0.00,0.10),axis_center=(0.0,0.0),show=False)\n",
      "pl1.xlabel='Std. Dev.'\n",
      "pl1.ylabel='Exp. Ret.'\n",
      "pl1.title='Efficient Frontier (with risk-free asset)'\n",
      "pl1[0].line_color='red'\n",
      "pl2=plot_parametric((x-r)/D,x,(x,r,0.10),show=False)\n",
      "pl1.append(pl2[0])        \n",
      "pl31=plot_parametric(pref1,x,(x,0,0.10),show=False)\n",
      "pl31[0].line_color='green'\n",
      "pl1.append(pl31[0])        \n",
      "pl32=plot_parametric(pref2,x,(x,0,0.10),show=False)\n",
      "pl32[0].line_color='green'\n",
      "pl1.append(pl32[0])        \n",
      "pl1.show()\n",
      "#pl1.save('pl2.png')\n",
      "\n",
      "\n"
     ],
     "language": "python",
     "metadata": {},
     "outputs": [
      {
       "metadata": {},
       "output_type": "display_data",
       "png": "[encoded data removed]",
       "text": [
        "<matplotlib.figure.Figure at 0x10f488390>"
       ]
      }
     ],
     "prompt_number": 49
    },
    {
     "cell_type": "markdown",
     "metadata": {},
     "source": [
      "# Portfolio along the efficient frontier"
     ]
    },
    {
     "cell_type": "code",
     "collapsed": false,
     "input": [
      "s = \"\"\"<table>\n",
      "<tr>\n",
      "<th></th>\n",
      "<th>Low risk</th>\n",
      "<th>High risk</th>\n",
      "</tr>\n",
      "<tr>\n",
      "<td>Cash</td>\n",
      "<td>row 1, cell 1</td>\n",
      "<td>row 1, cell 2</td>\n",
      "</tr>\n",
      "<tr>\n",
      "<td>Bonds</td>\n",
      "<td>row 2, cell 1</td>\n",
      "<td>row 2, cell 2</td>\n",
      "</tr>\n",
      "<tr>\n",
      "<td>Equities</td>\n",
      "<td>row 3, cell 1</td>\n",
      "<td>row 3, cell 2</td>\n",
      "</tr>\n",
      "</table>\"\"\"\n",
      "\n",
      "h = HTML(s); h"
     ],
     "language": "python",
     "metadata": {},
     "outputs": [
      {
       "html": [
        "<table>\n",
        "<tr>\n",
        "<th></th>\n",
        "<th>Low risk</th>\n",
        "<th>High risk</th>\n",
        "</tr>\n",
        "<tr>\n",
        "<td>Cash</td>\n",
        "<td>row 1, cell 1</td>\n",
        "<td>row 1, cell 2</td>\n",
        "</tr>\n",
        "<tr>\n",
        "<td>Bonds</td>\n",
        "<td>row 2, cell 1</td>\n",
        "<td>row 2, cell 2</td>\n",
        "</tr>\n",
        "<tr>\n",
        "<td>Equities</td>\n",
        "<td>row 3, cell 1</td>\n",
        "<td>row 3, cell 2</td>\n",
        "</tr>\n",
        "</table>"
       ],
       "metadata": {},
       "output_type": "pyout",
       "prompt_number": 54,
       "text": [
        "<IPython.core.display.HTML at 0x10f4a6e10>"
       ]
      }
     ],
     "prompt_number": 54
    },
    {
     "cell_type": "code",
     "collapsed": false,
     "input": [],
     "language": "python",
     "metadata": {},
     "outputs": []
    }
   ],
   "metadata": {}
  }
 ]
}