{
 "metadata": {
  "name": "",
  "signature": "sha256:194ec9d23b2ddbeb2f779fac3f6004bbec3b18683492f1b45b52347c3d1a5d93"
 },
 "nbformat": 3,
 "nbformat_minor": 0,
 "worksheets": [
  {
   "cells": [
    {
     "cell_type": "code",
     "collapsed": false,
     "input": [
      "from sympy import symbols\n",
      "from sympy.plotting import plot,plot_parametric\n",
      "from pandas import DataFrame\n",
      "import numpy as np\n",
      "\n",
      "%matplotlib inline"
     ],
     "language": "python",
     "metadata": {},
     "outputs": [],
     "prompt_number": 57
    },
    {
     "cell_type": "markdown",
     "metadata": {},
     "source": [
      "# Parameters\n",
      "\n",
      "* Asset 1 is a bond (low Sharpe)\n",
      "* Asset 2 is equities (high Sharpe)\n",
      "* Bonds and equities are negatively correlated"
     ]
    },
    {
     "cell_type": "code",
     "collapsed": false,
     "input": [
      "r=0.02 # Cash rate\n",
      "\n",
      "s1=0.07 # Vol\n",
      "sr1=0.05 # Sharpe\n",
      "s2=0.16 # Vol\n",
      "sr2=0.25 # Sharpe\n",
      "rho=-0.2 # Correlation\n",
      "sigma=np.array([[s1**2,rho*s1*s2],[rho*s1*s2,s2**2]]) # Covariance matrix\n",
      "e=np.ones(2)\n",
      "\n",
      "mu1=r+sr1*s1 # Expected return\n",
      "mu2=r+sr2*s2 # Expected return\n",
      "mu=np.array([mu1,mu2]) # Vector of expected returns"
     ],
     "language": "python",
     "metadata": {},
     "outputs": [],
     "prompt_number": 58
    },
    {
     "cell_type": "markdown",
     "metadata": {},
     "source": [
      "# Solving the constrained optimization program "
     ]
    },
    {
     "cell_type": "code",
     "collapsed": false,
     "input": [
      "A=(np.transpose(mu)).dot(np.linalg.solve(sigma,mu))\n",
      "\n",
      "B=(np.transpose(mu)).dot(np.linalg.solve(sigma,e))\n",
      "\n",
      "C=(np.transpose(e)).dot(np.linalg.solve(sigma,e))\n",
      "\n",
      "D=(np.transpose(mu-r*e)).dot(np.linalg.solve(sigma,(mu-r*e)))**0.5\n",
      "\n",
      "E=(np.transpose(e)).dot(np.linalg.solve(sigma,(mu-r*e)))\n",
      "\n",
      "\n"
     ],
     "language": "python",
     "metadata": {},
     "outputs": [],
     "prompt_number": 59
    },
    {
     "cell_type": "markdown",
     "metadata": {},
     "source": [
      "* Minimum variance portfolio\n",
      "* Tangent portfolio"
     ]
    },
    {
     "cell_type": "code",
     "collapsed": false,
     "input": [
      "pi1=(1/C)*np.linalg.solve(sigma,e)\n",
      "volpi1=((np.transpose(pi1)).dot(sigma.dot(pi1)))**0.5\n",
      "\n",
      "pistar=(1/E)*np.linalg.solve(sigma,mu-r*e)\n",
      "volpistar=((np.transpose(pistar)).dot(sigma.dot(pistar)))**0.5\n",
      "\n",
      "shpistar=D\n",
      "\n",
      "rhostar=(1/volpistar)*shpistar\n",
      "\n",
      "print \"pi1\",pi1\n",
      "print \"volpi1\",volpi1\n",
      "\n",
      "print \"pistar\",pistar\n",
      "print \"volpistar\",volpistar\n",
      "\n",
      "print \"shpistar\",shpistar\n",
      "\n",
      "\n",
      "print \"rhostar\", rhostar\n"
     ],
     "language": "python",
     "metadata": {},
     "outputs": [
      {
       "output_type": "stream",
       "stream": "stdout",
       "text": [
        "pi1 [ 0.79588336  0.20411664]\n",
        "volpi1 0.0586737352153\n",
        "pistar [ 0.46783626  0.53216374]\n",
        "volpistar 0.0848939132423\n",
        "shpistar 0.270030862434\n",
        "rhostar 3.18080357143\n"
       ]
      }
     ],
     "prompt_number": 60
    },
    {
     "cell_type": "markdown",
     "metadata": {},
     "source": [
      "# Efficient frontier with no riskless asset"
     ]
    },
    {
     "cell_type": "code",
     "collapsed": false,
     "input": [
      "x=symbols('x')\n",
      "expr=((A-2*B*x+C*x**2)/(A*C-B**2))**0.5\n",
      "\n",
      "pl=plot_parametric(expr,x,(x,0.00,0.10),axis_center=(0.05,0.0),show=False)\n",
      "\n",
      "pl.xlabel='Std. Dev.'\n",
      "pl.ylabel='Exp. Ret.'\n",
      "pl.title='Efficient Frontier (no risk-free asset)'\n",
      "pl.show()\n",
      "#pl.save('pl.png')\n"
     ],
     "language": "python",
     "metadata": {},
     "outputs": [
      {
       "metadata": {},
       "output_type": "display_data",
       "png": "[encoded data removed]",
       "text": [
        "<matplotlib.figure.Figure at 0x110948650>"
       ]
      }
     ],
     "prompt_number": 61
    },
    {
     "cell_type": "markdown",
     "metadata": {},
     "source": [
      "# Efficient frontier with a riskless asset"
     ]
    },
    {
     "cell_type": "code",
     "collapsed": false,
     "input": [
      "pl1=plot_parametric(expr,x,(x,0.00,0.10),axis_center=(0.0,0.0),show=False)\n",
      "pl1.xlabel='Std. Dev.'\n",
      "pl1.ylabel='Exp. Ret.'\n",
      "pl1.title='Efficient Frontier (with risk-free asset)'\n",
      "pl1[0].line_color='red'\n",
      "pl2=plot_parametric((x-r)/D,x,(x,r,0.10),show=False)\n",
      "pl1.append(pl2[0])        \n",
      "pl1.show()\n",
      "#pl1.save('pl1.png')"
     ],
     "language": "python",
     "metadata": {},
     "outputs": [
      {
       "metadata": {},
       "output_type": "display_data",
       "png": "[encoded data removed]",
       "text": [
        "<matplotlib.figure.Figure at 0x110873710>"
       ]
      }
     ],
     "prompt_number": 62
    },
    {
     "cell_type": "markdown",
     "metadata": {},
     "source": [
      "# Portfolio along the efficient frontier"
     ]
    },
    {
     "cell_type": "code",
     "collapsed": false,
     "input": [
      "rholr=(3.0/5)*rhostar\n",
      "vollr=(rholr/rhostar)*volpistar\n",
      "pilr=(rholr/rhostar)*pistar\n",
      "pilr=np.append(1.0-np.sum(pilr),pilr)\n",
      "\n",
      "rhohr=1.5*rhostar\n",
      "volhr=(rhohr/rhostar)*volpistar\n",
      "pihr=(rhohr/rhostar)*pistar\n",
      "pihr=np.append(1.0-np.sum(pihr),pihr)\n",
      "\n",
      "collr=np.append(vollr,pilr)\n",
      "colhr=np.append(volhr,pihr)\n",
      "\n",
      "data= [collr, colhr]\n",
      "df = DataFrame(np.transpose(data), index=['Vol','Cash','Bonds', 'Equities'], columns=['Low Risk','High Risk'])\n",
      "df"
     ],
     "language": "python",
     "metadata": {},
     "outputs": [
      {
       "html": [
        "<div style=\"max-height:1000px;max-width:1500px;overflow:auto;\">\n",
        "<table border=\"1\" class=\"dataframe\">\n",
        "  <thead>\n",
        "    <tr style=\"text-align: right;\">\n",
        "      <th></th>\n",
        "      <th>Low Risk</th>\n",
        "      <th>High Risk</th>\n",
        "    </tr>\n",
        "  </thead>\n",
        "  <tbody>\n",
        "    <tr>\n",
        "      <th>Vol</th>\n",
        "      <td> 0.050936</td>\n",
        "      <td> 0.127341</td>\n",
        "    </tr>\n",
        "    <tr>\n",
        "      <th>Cash</th>\n",
        "      <td> 0.400000</td>\n",
        "      <td>-0.500000</td>\n",
        "    </tr>\n",
        "    <tr>\n",
        "      <th>Bonds</th>\n",
        "      <td> 0.280702</td>\n",
        "      <td> 0.701754</td>\n",
        "    </tr>\n",
        "    <tr>\n",
        "      <th>Equities</th>\n",
        "      <td> 0.319298</td>\n",
        "      <td> 0.798246</td>\n",
        "    </tr>\n",
        "  </tbody>\n",
        "</table>\n",
        "</div>"
       ],
       "metadata": {},
       "output_type": "pyout",
       "prompt_number": 63,
       "text": [
        "          Low Risk  High Risk\n",
        "Vol       0.050936   0.127341\n",
        "Cash      0.400000  -0.500000\n",
        "Bonds     0.280702   0.701754\n",
        "Equities  0.319298   0.798246"
       ]
      }
     ],
     "prompt_number": 63
    },
    {
     "cell_type": "code",
     "collapsed": false,
     "input": [],
     "language": "python",
     "metadata": {},
     "outputs": []
    }
   ],
   "metadata": {}
  }
 ]
}